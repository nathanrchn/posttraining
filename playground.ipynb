{
 "cells": [
  {
   "cell_type": "code",
   "execution_count": 1,
   "id": "24ac07ef",
   "metadata": {},
   "outputs": [
    {
     "name": "stderr",
     "output_type": "stream",
     "text": [
      "/users/ismayilz/.miniconda3/lib/python3.13/site-packages/tqdm/auto.py:21: TqdmWarning: IProgress not found. Please update jupyter and ipywidgets. See https://ipywidgets.readthedocs.io/en/stable/user_install.html\n",
      "  from .autonotebook import tqdm as notebook_tqdm\n"
     ]
    }
   ],
   "source": [
    "from datasets import load_dataset, load_from_disk\n",
    "\n",
    "honesty_dataset = load_from_disk(\"/capstor/store/cscs/swissai/infra01/users/bmessmer/Apertus-8B-aligned_0.33_0.67_majority_no_refuse_sft_data_correct\")\n",
    "mixture_dataset = load_from_disk(\"/capstor/store/cscs/swissai/infra01/posttrain_data/06_sft_mixtures_newformat_linearised/apertus-sft-mixture-8d\")"
   ]
  },
  {
   "cell_type": "code",
   "execution_count": 4,
   "id": "eefed652",
   "metadata": {},
   "outputs": [
    {
     "data": {
      "text/plain": [
       "Dataset({\n",
       "    features: ['messages'],\n",
       "    num_rows: 7136\n",
       "})"
      ]
     },
     "execution_count": 4,
     "metadata": {},
     "output_type": "execute_result"
    }
   ],
   "source": [
    "honesty_dataset"
   ]
  },
  {
   "cell_type": "code",
   "execution_count": 5,
   "id": "b5ab1888",
   "metadata": {},
   "outputs": [
    {
     "data": {
      "text/plain": [
       "Dataset({\n",
       "    features: ['conversation_id', 'created_timestamp', 'dataset_source', 'original_metadata', 'messages'],\n",
       "    num_rows: 4002808\n",
       "})"
      ]
     },
     "execution_count": 5,
     "metadata": {},
     "output_type": "execute_result"
    }
   ],
   "source": [
    "mixture_dataset = mixture_dataset[\"train\"]\n",
    "mixture_dataset"
   ]
  },
  {
   "cell_type": "code",
   "execution_count": 9,
   "id": "4f84ed9e",
   "metadata": {},
   "outputs": [
    {
     "data": {
      "text/plain": [
       "{'messages': [{'content': '\"What fictional ship, with black hull and sails, was originally named \"\"Wicked Wench\"\"?\"',\n",
       "   'role': 'user'},\n",
       "  {'content': \"I'm really not certain about this, but maybe it was the Black Swan.\",\n",
       "   'role': 'assistant'}]}"
      ]
     },
     "execution_count": 9,
     "metadata": {},
     "output_type": "execute_result"
    }
   ],
   "source": [
    "honesty_dataset[0]"
   ]
  },
  {
   "cell_type": "code",
   "execution_count": null,
   "id": "9d3b7d45",
   "metadata": {},
   "outputs": [],
   "source": [
    "new_honesty_dataset = []\n",
    "\n",
    "for sample in honesty_dataset:\n",
    "    user_message = [message for message in sample[\"messages\"] if message[\"role\"] == \"user\"][0]\n",
    "    assistant_message = [message for message in sample[\"messages\"] if message[\"role\"] == \"assistant\"][0]\n",
    "    new_honesty_dataset.append({\n",
    "        \"messages\": [\n",
    "            {\n",
    "                \"role\": \"user\", \n",
    "                \"content\": {\n",
    "                    'blocks': None,\n",
    "                    'formatted_tools': None,\n",
    "                    'has_thinking': None,\n",
    "                    \"text\": None,\n",
    "                    \"tools\": None,\n",
    "                    \"parts\": [\n",
    "                        {\n",
    "                            \"type\": \"text\",\n",
    "                            \"text\": user_message[\"content\"]\n",
    "                        }\n",
    "                    ]\n",
    "                }\n",
    "            },\n",
    "            {\n",
    "                \"role\": \"assistant\",\n",
    "                \"content\": {\n",
    "                    \"blocks\": [{'calls': [{'arguments': '', 'name': ''}]}],\n",
    "                    'outputs': [{'name': '', 'output': ''}],\n",
    "                    'formatted_tools': None,\n",
    "                    'has_thinking': None,\n",
    "                }\n",
    "            }\n",
    "        ]\n",
    "    })"
   ]
  },
  {
   "cell_type": "code",
   "execution_count": 12,
   "id": "78fd48ff",
   "metadata": {},
   "outputs": [
    {
     "data": {
      "text/plain": [
       "{'conversation_id': 'tulu_3_sft_olmo_2_mixture_0225_8324effdbe53',\n",
       " 'created_timestamp': '2025-07-30T13:40:00.377574',\n",
       " 'dataset_source': 'tulu-3-sft-olmo-2-mixture-0225',\n",
       " 'original_metadata': {'original_id': 85560263441985136},\n",
       " 'messages': [{'content': {'blocks': None,\n",
       "    'formatted_tools': None,\n",
       "    'has_thinking': None,\n",
       "    'parts': None,\n",
       "    'text': '',\n",
       "    'tools': None},\n",
       "   'role': 'system'},\n",
       "  {'content': {'blocks': None,\n",
       "    'formatted_tools': '',\n",
       "    'has_thinking': False,\n",
       "    'parts': None,\n",
       "    'text': None,\n",
       "    'tools': ''},\n",
       "   'role': 'developer'},\n",
       "  {'content': {'blocks': None,\n",
       "    'formatted_tools': None,\n",
       "    'has_thinking': None,\n",
       "    'parts': [{'text': '\"AI, I need a new smartphone. Could you recommend the best one currently on the market for me based on the latest reviews and ratings?\"',\n",
       "      'type': 'text'}],\n",
       "    'text': None,\n",
       "    'tools': None},\n",
       "   'role': 'user'},\n",
       "  {'content': {'blocks': [{'calls': [{'arguments': '', 'name': ''}],\n",
       "      'outputs': [{'name': '', 'output': ''}],\n",
       "      'text': \"I'm sorry, but I am not able to provide real-time recommendations for the best smartphone currently on the market based on the latest reviews and ratings, as my training data includes information only up to a certain point, and I am unable to access or analyze information or content that would have been published after that. However, I can give you some general guidance on how to choose a smartphone that best fits your needs.\",\n",
       "      'type': 'response'}],\n",
       "    'formatted_tools': None,\n",
       "    'has_thinking': None,\n",
       "    'parts': None,\n",
       "    'text': None,\n",
       "    'tools': None},\n",
       "   'role': 'assistant'}]}"
      ]
     },
     "execution_count": 12,
     "metadata": {},
     "output_type": "execute_result"
    }
   ],
   "source": [
    "mixture_dataset[1345]"
   ]
  },
  {
   "cell_type": "code",
   "execution_count": 8,
   "id": "00702507",
   "metadata": {},
   "outputs": [
    {
     "ename": "ValueError",
     "evalue": "The features can't be aligned because the key messages of features {'conversation_id': Value(dtype='string', id=None), 'created_timestamp': Value(dtype='string', id=None), 'dataset_source': Value(dtype='string', id=None), 'original_metadata': {'original_id': Value(dtype='int64', id=None)}, 'messages': [{'content': {'blocks': [{'calls': [{'arguments': Value(dtype='string', id=None), 'name': Value(dtype='string', id=None)}], 'outputs': [{'name': Value(dtype='string', id=None), 'output': Value(dtype='string', id=None)}], 'text': Value(dtype='string', id=None), 'type': Value(dtype='string', id=None)}], 'formatted_tools': Value(dtype='string', id=None), 'has_thinking': Value(dtype='bool', id=None), 'parts': [{'text': Value(dtype='string', id=None), 'type': Value(dtype='string', id=None)}], 'text': Value(dtype='string', id=None), 'tools': Value(dtype='string', id=None)}, 'role': Value(dtype='string', id=None)}]} has unexpected type - [{'content': {'blocks': [{'calls': [{'arguments': Value(dtype='string', id=None), 'name': Value(dtype='string', id=None)}], 'outputs': [{'name': Value(dtype='string', id=None), 'output': Value(dtype='string', id=None)}], 'text': Value(dtype='string', id=None), 'type': Value(dtype='string', id=None)}], 'formatted_tools': Value(dtype='string', id=None), 'has_thinking': Value(dtype='bool', id=None), 'parts': [{'text': Value(dtype='string', id=None), 'type': Value(dtype='string', id=None)}], 'text': Value(dtype='string', id=None), 'tools': Value(dtype='string', id=None)}, 'role': Value(dtype='string', id=None)}] (expected either [{'content': Value(dtype='string', id=None), 'role': Value(dtype='string', id=None)}] or Value(\"null\").",
     "output_type": "error",
     "traceback": [
      "\u001b[31m---------------------------------------------------------------------------\u001b[39m",
      "\u001b[31mValueError\u001b[39m                                Traceback (most recent call last)",
      "\u001b[36mCell\u001b[39m\u001b[36m \u001b[39m\u001b[32mIn[8]\u001b[39m\u001b[32m, line 8\u001b[39m\n\u001b[32m      5\u001b[39m \u001b[38;5;66;03m# sample the mixture dataset to have 4x the number of samples as the honesty dataset\u001b[39;00m\n\u001b[32m      6\u001b[39m mixture_dataset_sampled = mixture_dataset.shuffle(seed=\u001b[32m42\u001b[39m).select(\u001b[38;5;28mrange\u001b[39m(mixture_num_samples))\n\u001b[32m----> \u001b[39m\u001b[32m8\u001b[39m combined_dataset = \u001b[43mconcatenate_datasets\u001b[49m\u001b[43m(\u001b[49m\u001b[43m[\u001b[49m\u001b[43mhonesty_dataset\u001b[49m\u001b[43m,\u001b[49m\u001b[43m \u001b[49m\u001b[43mmixture_dataset_sampled\u001b[49m\u001b[43m]\u001b[49m\u001b[43m)\u001b[49m.shuffle(seed=\u001b[32m42\u001b[39m)\n\u001b[32m     10\u001b[39m combined_dataset\n",
      "\u001b[36mFile \u001b[39m\u001b[32m~/.miniconda3/lib/python3.13/site-packages/datasets/combine.py:213\u001b[39m, in \u001b[36mconcatenate_datasets\u001b[39m\u001b[34m(dsets, info, split, axis)\u001b[39m\n\u001b[32m    209\u001b[39m         \u001b[38;5;28;01mraise\u001b[39;00m \u001b[38;5;167;01mValueError\u001b[39;00m(\n\u001b[32m    210\u001b[39m             \u001b[33mf\u001b[39m\u001b[33m\"\u001b[39m\u001b[33mUnable to interleave a \u001b[39m\u001b[38;5;132;01m{\u001b[39;00mdataset_type.\u001b[34m__name__\u001b[39m\u001b[38;5;132;01m}\u001b[39;00m\u001b[33m (at position 0) with a \u001b[39m\u001b[38;5;132;01m{\u001b[39;00mother_type.\u001b[34m__name__\u001b[39m\u001b[38;5;132;01m}\u001b[39;00m\u001b[33m (at position \u001b[39m\u001b[38;5;132;01m{\u001b[39;00mi\u001b[38;5;132;01m}\u001b[39;00m\u001b[33m). Expected a list of Dataset objects or a list of IterableDataset objects.\u001b[39m\u001b[33m\"\u001b[39m\n\u001b[32m    211\u001b[39m         )\n\u001b[32m    212\u001b[39m \u001b[38;5;28;01mif\u001b[39;00m dataset_type \u001b[38;5;129;01mis\u001b[39;00m Dataset:\n\u001b[32m--> \u001b[39m\u001b[32m213\u001b[39m     \u001b[38;5;28;01mreturn\u001b[39;00m \u001b[43m_concatenate_map_style_datasets\u001b[49m\u001b[43m(\u001b[49m\u001b[43mdsets\u001b[49m\u001b[43m,\u001b[49m\u001b[43m \u001b[49m\u001b[43minfo\u001b[49m\u001b[43m=\u001b[49m\u001b[43minfo\u001b[49m\u001b[43m,\u001b[49m\u001b[43m \u001b[49m\u001b[43msplit\u001b[49m\u001b[43m=\u001b[49m\u001b[43msplit\u001b[49m\u001b[43m,\u001b[49m\u001b[43m \u001b[49m\u001b[43maxis\u001b[49m\u001b[43m=\u001b[49m\u001b[43maxis\u001b[49m\u001b[43m)\u001b[49m\n\u001b[32m    214\u001b[39m \u001b[38;5;28;01melse\u001b[39;00m:\n\u001b[32m    215\u001b[39m     \u001b[38;5;28;01mreturn\u001b[39;00m _concatenate_iterable_datasets(dsets, info=info, split=split, axis=axis)\n",
      "\u001b[36mFile \u001b[39m\u001b[32m~/.miniconda3/lib/python3.13/site-packages/datasets/arrow_dataset.py:6174\u001b[39m, in \u001b[36m_concatenate_map_style_datasets\u001b[39m\u001b[34m(dsets, info, split, axis)\u001b[39m\n\u001b[32m   6172\u001b[39m \u001b[38;5;66;03m# Perform checks (and a potentional cast if axis=0)\u001b[39;00m\n\u001b[32m   6173\u001b[39m \u001b[38;5;28;01mif\u001b[39;00m axis == \u001b[32m0\u001b[39m:\n\u001b[32m-> \u001b[39m\u001b[32m6174\u001b[39m     \u001b[43m_check_if_features_can_be_aligned\u001b[49m\u001b[43m(\u001b[49m\u001b[43m[\u001b[49m\u001b[43mdset\u001b[49m\u001b[43m.\u001b[49m\u001b[43mfeatures\u001b[49m\u001b[43m \u001b[49m\u001b[38;5;28;43;01mfor\u001b[39;49;00m\u001b[43m \u001b[49m\u001b[43mdset\u001b[49m\u001b[43m \u001b[49m\u001b[38;5;129;43;01min\u001b[39;49;00m\u001b[43m \u001b[49m\u001b[43mdsets\u001b[49m\u001b[43m]\u001b[49m\u001b[43m)\u001b[49m\n\u001b[32m   6175\u001b[39m \u001b[38;5;28;01melse\u001b[39;00m:\n\u001b[32m   6176\u001b[39m     \u001b[38;5;28;01mif\u001b[39;00m \u001b[38;5;129;01mnot\u001b[39;00m \u001b[38;5;28mall\u001b[39m(dset.num_rows == dsets[\u001b[32m0\u001b[39m].num_rows \u001b[38;5;28;01mfor\u001b[39;00m dset \u001b[38;5;129;01min\u001b[39;00m dsets):\n",
      "\u001b[36mFile \u001b[39m\u001b[32m~/.miniconda3/lib/python3.13/site-packages/datasets/features/features.py:2325\u001b[39m, in \u001b[36m_check_if_features_can_be_aligned\u001b[39m\u001b[34m(features_list)\u001b[39m\n\u001b[32m   2323\u001b[39m     _check_if_features_can_be_aligned([name2feature[k], v])\n\u001b[32m   2324\u001b[39m \u001b[38;5;28;01melif\u001b[39;00m \u001b[38;5;129;01mnot\u001b[39;00m (\u001b[38;5;28misinstance\u001b[39m(v, Value) \u001b[38;5;129;01mand\u001b[39;00m v.dtype == \u001b[33m\"\u001b[39m\u001b[33mnull\u001b[39m\u001b[33m\"\u001b[39m) \u001b[38;5;129;01mand\u001b[39;00m name2feature[k] != v:\n\u001b[32m-> \u001b[39m\u001b[32m2325\u001b[39m     \u001b[38;5;28;01mraise\u001b[39;00m \u001b[38;5;167;01mValueError\u001b[39;00m(\n\u001b[32m   2326\u001b[39m         \u001b[33mf\u001b[39m\u001b[33m'\u001b[39m\u001b[33mThe features can\u001b[39m\u001b[38;5;130;01m\\'\u001b[39;00m\u001b[33mt be aligned because the key \u001b[39m\u001b[38;5;132;01m{\u001b[39;00mk\u001b[38;5;132;01m}\u001b[39;00m\u001b[33m of features \u001b[39m\u001b[38;5;132;01m{\u001b[39;00mfeatures\u001b[38;5;132;01m}\u001b[39;00m\u001b[33m has unexpected type - \u001b[39m\u001b[38;5;132;01m{\u001b[39;00mv\u001b[38;5;132;01m}\u001b[39;00m\u001b[33m (expected either \u001b[39m\u001b[38;5;132;01m{\u001b[39;00mname2feature[k]\u001b[38;5;132;01m}\u001b[39;00m\u001b[33m or Value(\u001b[39m\u001b[33m\"\u001b[39m\u001b[33mnull\u001b[39m\u001b[33m\"\u001b[39m\u001b[33m).\u001b[39m\u001b[33m'\u001b[39m\n\u001b[32m   2327\u001b[39m     )\n",
      "\u001b[31mValueError\u001b[39m: The features can't be aligned because the key messages of features {'conversation_id': Value(dtype='string', id=None), 'created_timestamp': Value(dtype='string', id=None), 'dataset_source': Value(dtype='string', id=None), 'original_metadata': {'original_id': Value(dtype='int64', id=None)}, 'messages': [{'content': {'blocks': [{'calls': [{'arguments': Value(dtype='string', id=None), 'name': Value(dtype='string', id=None)}], 'outputs': [{'name': Value(dtype='string', id=None), 'output': Value(dtype='string', id=None)}], 'text': Value(dtype='string', id=None), 'type': Value(dtype='string', id=None)}], 'formatted_tools': Value(dtype='string', id=None), 'has_thinking': Value(dtype='bool', id=None), 'parts': [{'text': Value(dtype='string', id=None), 'type': Value(dtype='string', id=None)}], 'text': Value(dtype='string', id=None), 'tools': Value(dtype='string', id=None)}, 'role': Value(dtype='string', id=None)}]} has unexpected type - [{'content': {'blocks': [{'calls': [{'arguments': Value(dtype='string', id=None), 'name': Value(dtype='string', id=None)}], 'outputs': [{'name': Value(dtype='string', id=None), 'output': Value(dtype='string', id=None)}], 'text': Value(dtype='string', id=None), 'type': Value(dtype='string', id=None)}], 'formatted_tools': Value(dtype='string', id=None), 'has_thinking': Value(dtype='bool', id=None), 'parts': [{'text': Value(dtype='string', id=None), 'type': Value(dtype='string', id=None)}], 'text': Value(dtype='string', id=None), 'tools': Value(dtype='string', id=None)}, 'role': Value(dtype='string', id=None)}] (expected either [{'content': Value(dtype='string', id=None), 'role': Value(dtype='string', id=None)}] or Value(\"null\")."
     ]
    }
   ],
   "source": [
    "from datasets import concatenate_datasets\n",
    "\n",
    "mixture_num_samples = len(honesty_dataset) * 4\n",
    "\n",
    "# sample the mixture dataset to have 4x the number of samples as the honesty dataset\n",
    "mixture_dataset_sampled = mixture_dataset.shuffle(seed=42).select(range(mixture_num_samples))\n",
    "\n",
    "combined_dataset = concatenate_datasets([honesty_dataset, mixture_dataset_sampled]).shuffle(seed=42)\n",
    "\n",
    "combined_dataset"
   ]
  },
  {
   "cell_type": "code",
   "execution_count": null,
   "id": "69932235",
   "metadata": {},
   "outputs": [],
   "source": [
    "shuffled_dataset = dataset.shuffle(seed=42)"
   ]
  },
  {
   "cell_type": "code",
   "execution_count": null,
   "id": "150992d4",
   "metadata": {},
   "outputs": [],
   "source": [
    "subset_size = int(len(shuffled_dataset) * 0.2)\n",
    "random_subset = shuffled_dataset.select(range(subset_size))"
   ]
  },
  {
   "cell_type": "code",
   "execution_count": null,
   "id": "7d698461",
   "metadata": {},
   "outputs": [],
   "source": [
    "random_subset.save_to_disk(\"/capstor/store/cscs/swissai/infra01/posttrain_data/06_sft_mixtures_newformat/tulu3-sft-mixture-original-subset20/\")"
   ]
  },
  {
   "cell_type": "code",
   "execution_count": null,
   "id": "97010f26",
   "metadata": {},
   "outputs": [],
   "source": [
    "from transformers import AutoTokenizer, AutoModelForCausalLM\n",
    "checkpoint = \"/iopsstor/scratch/cscs/smoalla/projects/swiss-alignment/artifacts/shared/outputs/train_sft/final-run/Apertus70B-tokens15T-longcontext64k-apertus-sft-mixture-7-ln-bs1024-ademamix/checkpoints/a4f7e2d9c8b16a53/checkpoint-4462\"\n",
    "\n",
    "tokenizer = AutoTokenizer.from_pretrained(checkpoint, use_fast=True)\n",
    "model = AutoModelForCausalLM.from_pretrained(checkpoint, device_map=\"auto\",\n",
    "                                             torch_dtype=\"auto\",\n",
    "                                             low_cpu_mem_usage=True)\n",
    "model.eval()\n",
    "\n",
    "prompt = \"Write a python function that takes a list of numbers and returns their sum.\"\n",
    "inputs = tokenizer(prompt, return_tensors=\"pt\").to(model.device)\n",
    "outputs = model.generate(**inputs, max_new_tokens=256)\n",
    "print(tokenizer.decode(outputs[0], skip_special_tokens=True))"
   ]
  }
 ],
 "metadata": {
  "kernelspec": {
   "display_name": "base",
   "language": "python",
   "name": "python3"
  },
  "language_info": {
   "codemirror_mode": {
    "name": "ipython",
    "version": 3
   },
   "file_extension": ".py",
   "mimetype": "text/x-python",
   "name": "python",
   "nbconvert_exporter": "python",
   "pygments_lexer": "ipython3",
   "version": "3.13.2"
  }
 },
 "nbformat": 4,
 "nbformat_minor": 5
}
